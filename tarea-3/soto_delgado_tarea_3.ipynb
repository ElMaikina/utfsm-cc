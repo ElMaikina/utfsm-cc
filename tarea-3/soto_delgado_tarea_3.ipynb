{
 "cells": [
  {
   "cell_type": "markdown",
   "id": "68487914",
   "metadata": {},
   "source": [
    "<center>\n",
    "    <img src=\"http://sct.inf.utfsm.cl/wp-content/uploads/2020/04/logo_di.png\" style=\"width:60%\">\n",
    "    <h1> INF285 - Computación Científica </h1>\n",
    "    <h2> Tarea 3 - Código Base</h2>\n",
    "    <h2> [S]cientific [C]omputing [T]eam </a> </h2>\n",
    "    <h2> 2024-2</h2>\n",
    "</center>"
   ]
  },
  {
   "cell_type": "markdown",
   "id": "2fc283ff-723a-409e-a198-4bea80ca2388",
   "metadata": {},
   "source": [
    "# Consultas\n",
    "\n",
    "* Enviar a: **tareas.inf285@gmail.com**\n",
    "* Se recibirán consultas en **tres** bloques:\n",
    "1. El primer bloque será desde las 12:15 hrs. hasta las 17:00 hrs. del día jueves, donde todas las preguntas recibidas dentro de este bloque se responderán con seguridad a partir de las 17:01 hrs. del día jueves.\n",
    "2. El segundo bloque de consultas será desde las 17:01 hrs. del día jueves hasta las 08:15 hrs. del día viernes, donde las preguntas recibidas dentro de este bloque horario se responderán con seguridad a partir de las 08:16 hrs. del día viernes.\n",
    "3. El tercer, y último bloque, de consultas será desde las 08:16 hrs. hasta las 14:30 hrs. del día viernes, donde las preguntas recibidas dentro de este bloque horario se responderán con seguridad a partir de las 14:31 hrs. del día viernes."
   ]
  },
  {
   "cell_type": "markdown",
   "id": "4beec7f5-9da4-498a-831f-8b229ce4bb9d",
   "metadata": {},
   "source": [
    "# Librerías (no utilizar liberías adicionales)"
   ]
  },
  {
   "cell_type": "code",
   "execution_count": 4,
   "id": "ff73dff5-ef8e-4f2d-b551-07dc88ffa520",
   "metadata": {},
   "outputs": [],
   "source": [
    "import numpy as np\n",
    "import matplotlib.pyplot as plt\n",
    "import scipy.interpolate\n",
    "from scipy.linalg import solve_triangular"
   ]
  },
  {
   "cell_type": "markdown",
   "id": "d8c06b3c-8ee8-40d2-9406-f43f4bf87a83",
   "metadata": {},
   "source": [
    "# Contexto\n",
    "\n",
    "Volumen 51 es una instalación secreta que estudia los secretos más grandes del universo. La noche pasada un animal entró en su oficina y se robó unos archivos en los que estaba trabajando. Mientras lo perseguía pudo hacerse una idea de la forma del animal, sin embargo, entre la oscuridad de la noche y la fatiga por correr no pudo recuperar sus archivos.\n",
    "\n",
    "Temeroso por el castigo que podría recibir, usted realiza un bosquejo con puntos del animal que vió, pero no está seguro de la precisión del dibujo y probablemente este contenga errores.\n",
    "\n",
    "Para mejorar su dibujo usted comienza a investigar métodos de aproximación para realizar un dibujo continuo del animal.\n",
    "\n",
    "<p align=\"center\">\n",
    "  <img src=\"picture.jpg\" alt=\"drawing\" style=\"margin:auto;width:500px;\"/>\n",
    "</p>"
   ]
  },
  {
   "cell_type": "markdown",
   "id": "d3305180-7215-4780-92f8-69f6a64667bf",
   "metadata": {},
   "source": [
    "# Funciones Entregadas (No debe modificarlas)"
   ]
  },
  {
   "cell_type": "code",
   "execution_count": null,
   "id": "d79c6177",
   "metadata": {},
   "outputs": [],
   "source": [
    "# Genera n puntos de Chebyshev en un intervalo de x dado\n",
    "def myChebyshev(xmin,xmax,n):\n",
    "    ns = np.arange(1,n+1)\n",
    "    x = np.cos((2*ns-1)*np.pi/(2*n))\n",
    "    return (xmin+xmax)/2 + (xmax-xmin)*x/2\n",
    "\n",
    "# Genera la data\n",
    "def dataGenerator(a,n,delta):\n",
    "    rng = np.random.default_rng(123)\n",
    "    x = myChebyshev(-(a+delta),a+delta,n)\n",
    "    y_exact = np.cos(x*(2+np.sin(x)/x))\n",
    "    y = y_exact+rng.normal(loc=0.0, scale=delta,size=n)\n",
    "    return x,y,y_exact\n",
    "\n",
    "# Función para leer valores desde un archivo y almacenarlos en ndarray\n",
    "def read_data_from_file(filename):\n",
    "    data = np.loadtxt(filename, delimiter=',')\n",
    "    x_values = data[:, 0]\n",
    "    y_values = data[:, 1]\n",
    "    return x_values, y_values\n",
    "\n",
    "# Función que calcula la aproximación por mínimos cuadrados del polinomio de grado n\n",
    "def QR_pol(x,y,n):\n",
    "    qr_p = np.polynomial.Polynomial.fit(x, y, n)\n",
    "    return qr_p\n",
    "\n",
    "# Función que calcula la aproximación del polinomio usando Baricéntrica\n",
    "def simple_pol(x,y):\n",
    "    poly = scipy.interpolate.BarycentricInterpolator(x,y)\n",
    "    return poly\n",
    "\n",
    "# 100 Valores de la función en el intervalo [-10 - delta, 10 + delta] \n",
    "x, y, y_exact = dataGenerator(10, 100, 0.2)"
   ]
  },
  {
   "cell_type": "markdown",
   "id": "43d2f386",
   "metadata": {},
   "source": [
    "# Pregunta 1\n",
    "\n",
    "Para analizar qué métodos de aproximación funcionan mejor usted utilizará una función conocida y obtendrá puntos con error a partir de esta función.\n",
    "Observe que los puntos utilizados para generar los datos son los de Chebyshev."
   ]
  },
  {
   "cell_type": "code",
   "execution_count": null,
   "id": "336b92f4",
   "metadata": {},
   "outputs": [],
   "source": [
    "# No modifique, solo ejecute\n",
    "plt.scatter(x,y)\n",
    "plt.plot(x, y_exact, \"r-\")\n",
    "plt.grid()\n",
    "plt.show()"
   ]
  },
  {
   "cell_type": "markdown",
   "id": "a194d0e1",
   "metadata": {},
   "source": [
    "1.1 **(16 puntos)**  Usted tiene a disposición dos interpoladores, definidos en las funciones entregadas, ¿cuál debiese ocupar una aproximación de los datos con error? Justifique basándose en las ventajas y desventajas de cada método."
   ]
  },
  {
   "cell_type": "markdown",
   "id": "1bb5cd55",
   "metadata": {},
   "source": [
    "**Respuesta:**\n",
    "\n",
    "---\n",
    "\n",
    "*Reemplace este texto por su respuesta.*\n",
    "\n",
    "---"
   ]
  },
  {
   "cell_type": "markdown",
   "id": "ddaf198b",
   "metadata": {},
   "source": [
    "1.2 **(4 puntos)** Implemente la función `fix_data` que recibe como parámetros los puntos $x$ e $y$ y retorna dos funciones *callable* $f$ y $g$, que corresponden a los respectivos polinomios generados con los métodos de interpolación que usted dispone.  \n",
    "\n",
    "*Hint: you should define a \"good\" degree of the polynomial based on your previous answer*"
   ]
  },
  {
   "cell_type": "code",
   "execution_count": null,
   "id": "3c5566ec",
   "metadata": {},
   "outputs": [],
   "source": [
    "def fix_data(x, y):\n",
    "    \"\"\"\n",
    "    input:\n",
    "    x       : (ndarray) x values of data to clean.\n",
    "    y       : (ndarray) y values of data to clean.\n",
    "\n",
    "    output: \n",
    "    f       : (callable) polynomial of first interpolation method.\n",
    "    g       : (callable) polynomial of second interpolation method.\n",
    "    \"\"\"\n",
    "    # acá va su código\n",
    "    #--------------------------\n",
    "\n",
    "    #--------------------------\n",
    "    return f, g"
   ]
  },
  {
   "cell_type": "markdown",
   "id": "b623d8c6",
   "metadata": {},
   "source": [
    "1.3 **(10 puntos)** Ejecute la celda de abajo, la cual grafica la interpolación baricéntrica y la interpolación aplicando mínimos cuadrados, determine cual de los método funciona mejor y por qué comparando con los datos exactos (gráfico al inicio de la pregunta).\n",
    "\n",
    "*Hint: your answer might be based on an quantitative and qualitative analysis of the graphics.*"
   ]
  },
  {
   "cell_type": "code",
   "execution_count": null,
   "id": "13e91e4a",
   "metadata": {},
   "outputs": [],
   "source": [
    "# No modifique, solo ejecute\n",
    "a, b = -10, 10\n",
    "x_plot = np.linspace(a, b, 1000)\n",
    "\n",
    "f,g = fix_data(x, y)\n",
    "\n",
    "fig, ax = plt.subplots(1, 2, figsize=(20, 5))\n",
    "y_1 = f(x_plot)\n",
    "y_2 = g(x_plot)\n",
    "\n",
    "ax[0].plot(x_plot, y_1)\n",
    "ax[0].set_title('Interpolación baricéntrica')\n",
    "ax[0].grid(True)\n",
    "ax[1].plot(x_plot, y_2)\n",
    "ax[1].set_title('Interoplación usando mínimos cuadrados')\n",
    "ax[1].grid(True)\n",
    "\n",
    "plt.show()"
   ]
  },
  {
   "cell_type": "markdown",
   "id": "b37219ce",
   "metadata": {},
   "source": [
    "**Respuesta:**\n",
    "\n",
    "---\n",
    "\n",
    "*Reemplace este texto por su respuesta.*\n",
    "\n",
    "---"
   ]
  },
  {
   "cell_type": "markdown",
   "id": "4ae4409c",
   "metadata": {},
   "source": [
    "# Pregunta 2\n",
    "\n",
    "Dado que los métodos aplicados anteriormente no muestran resultados lo suficientemente buenos como para asegurarse de qué animal le robó los archivos, es que busca métodos más avanzados, en particular, recuerda su experiencia en Computación Científica y el método de suavizamiento de datos por medio de un polinomio.\n",
    "\n",
    "La idea es generar una serie de polinomios que se ajusten localmente a subconjuntos de datos dentro de una ventana deslizante, en torno a puntos específicos $z$ del dominio.\n",
    "\n",
    "A modo de ejemplo presentamos un polinomio suavizante cúbico:\n",
    "$$ P_3(x,z) = \\alpha _0(z) + \\alpha _1(z)(x-z) + \\frac{\\alpha _2(z)}{2}(x-z)^{2} + \\frac{\\alpha _3(z)}{6}(x-z)^{3}  $$\n",
    "\n",
    "Donde:\n",
    "- $z$ es el centro de la ventana de suavizamiento y actúa como parámetro\n",
    "- $ \\alpha _0(z)$,$\\alpha _1(z)$,$\\alpha _2(z)$,$\\alpha _3(z)$ son coeficientes dependientes de $z$ que determinna la forma del polinomio cúbico y se calculan mediante un ajuste por mínimos cuadrados\n",
    "- Para un punto central $z$, se toma un subconjunto de los datos originales $(x_i,y_i)$ que caen dentro de un intervalo $[z - \\delta, z + \\delta]$, donde $\\delta$ define el tamaño de la ventana de suavizamiento\n",
    "\n",
    "El procedimiento anterior genera cuatro familias de datos  $(z_k, \\overline{\\alpha_0(z_k)})$, $(z_k, \\overline{\\alpha_1(z_k)})$, $(z_k, \\overline{\\alpha_2(z_k)})$, $(z_k, \\overline{\\alpha_3(z_k)})$. Para aproximar el comportamiento de la función original, se recomienda interpolar la familia $(z_k, \\overline{\\alpha_0(z_k)})$.\n",
    "\n",
    "El procedimiento para obtener los *alphas* con un suavizamiento cúbico es el siguiente:"
   ]
  },
  {
   "cell_type": "code",
   "execution_count": null,
   "id": "ecf95942",
   "metadata": {},
   "outputs": [],
   "source": [
    "# No modifique, solo ejecute\n",
    "def obtain_alphas_cubic(x, y, z, delta):\n",
    "    # Selección de datos en la ventana\n",
    "    selected = np.logical_and(x <= z + delta, z - delta <= x)\n",
    "    x_local = x[selected]\n",
    "    y_local = y[selected]\n",
    "    \n",
    "    # Número de puntos en la ventana\n",
    "    n = len(x_local)\n",
    "    \n",
    "    # Inicialización de la matriz de Vandermonde para grado 3\n",
    "    V = np.ones((n, 4))\n",
    "    V[:, 1] = x_local - z\n",
    "    V[:, 2] = np.power(x_local - z, 2) / 2.\n",
    "    V[:, 3] = np.power(x_local - z, 3) / 6.\n",
    "    \n",
    "    # Factorización QR y solución triangular\n",
    "    Qh, Rh = np.linalg.qr(V)\n",
    "    RHS = np.dot(Qh.T, y_local)\n",
    "    alphas = solve_triangular(Rh, RHS)\n",
    "    \n",
    "    return alphas"
   ]
  },
  {
   "cell_type": "markdown",
   "id": "c6057c61",
   "metadata": {},
   "source": [
    "2.1 **(10 puntos)** Se le solicita implementar la función `cubic_smoothed_pol` que recibe como parámetros $x$, $y$, $\\delta$ $a$, $b$ y $n$ donde $x$ e $y$ son los puntos de datos entregados a suavizar, $\\delta$ es el tamaño de la ventana deslizante a utilizar, $a$ y $b$ son los límites del dominio y $n$ es el grado del polinomio a construir. Su algoritmo debe evitar el fenómeno de Runge y minimizar las operaciones elementales.  \n",
    "\n",
    "*Hint: you should use `obtain_alphas_cubic`.*"
   ]
  },
  {
   "cell_type": "code",
   "execution_count": null,
   "id": "28719411",
   "metadata": {},
   "outputs": [],
   "source": [
    "def cubic_smoothed_pol(x, y, a, b, delta, n):\n",
    "    \"\"\"\n",
    "    input:\n",
    "    x       : (ndarray) input data points x.\n",
    "    y       : (ndarray) input data points y.\n",
    "    a       : (int)     lower bound of z_s interval .\n",
    "    b       : (int)     upper bound of z_s interval.\n",
    "    delta   : (float)   size of the window to be used.\n",
    "    n       : (int)     degree of polynomial to be built.\n",
    "    \n",
    "    output:\n",
    "    p_smoothed : (callable) the callable polynomial approximation of the cubic smoothed data.\n",
    "    \"\"\"\n",
    "    # acá va su código\n",
    "    #--------------------------\n",
    "\n",
    "    #--------------------------\n",
    "    return p_smoothed"
   ]
  },
  {
   "cell_type": "markdown",
   "id": "10caacc1",
   "metadata": {},
   "source": [
    "2.2 **(5 puntos)** Ejecute la celda siguiente y explique por qué el polinomio construido por `cubic_smoothed_pol` presenta pequeños cambios bruscos y no se ve suavizado.\n"
   ]
  },
  {
   "cell_type": "code",
   "execution_count": null,
   "id": "9852cc0e",
   "metadata": {},
   "outputs": [],
   "source": [
    "# No modifique, solo ejecute\n",
    "a, b = -10, 10\n",
    "x_plot=np.linspace(a, b, 1000)\n",
    "\n",
    "p_smoothed = cubic_smoothed_pol(x, y, a, b, 1.0, 1000)\n",
    "p_qr = QR_pol(x, y, 20)\n",
    "\n",
    "fig, ax = plt.subplots(1,2,figsize=(20, 5))\n",
    "y_cubic = p_smoothed(x_plot)\n",
    "y_qr = p_qr(x_plot)\n",
    "\n",
    "ax[0].plot(x_plot, y_qr)\n",
    "ax[0].set_title('Bosquejo del dibujo con ajuste de minimos cuadrados de grado N-1')\n",
    "ax[0].grid(True)\n",
    "ax[1].plot(x_plot, y_cubic)\n",
    "ax[1].set_title('Bosquejo del dibujo con suavización de minimos cuadrados cúbica e interpolación')\n",
    "ax[1].grid(True)\n",
    "\n",
    "plt.show()"
   ]
  },
  {
   "cell_type": "markdown",
   "id": "55ab2205",
   "metadata": {},
   "source": [
    "**Respuesta:**\n",
    "\n",
    "---\n",
    "\n",
    "*Reemplace este texto por su respuesta.*\n",
    "\n",
    "---"
   ]
  },
  {
   "cell_type": "markdown",
   "id": "ad43ceb2",
   "metadata": {},
   "source": [
    "### Suavizamiento con función de pesos\n",
    "\n",
    "En búsqueda de una mejor aproximación reduciendo cambios bruscos en los bosquejos, se propone utilizar una función de peso para resolver el problema de mínimos cuadrados para el vecindario de cada $z_k$, es decir, para los puntos que se encuentren dentro del dominio $[z_k - δ, z_k + δ]$. Se busca que los puntos que estén cercanos a $z_k$ mantengan su valor en el problema de mínimos cuadrados y que decaiga monótonamente a 0 al acercarse a los bordes del dominio.\n",
    "\n",
    "Por ejemplo, se puede utilizar una función de decaimiento exponencial:\n",
    "$$w(x) = e^{\\frac{\\beta\\delta}{-1+e^{\\beta\\delta}}} \\times e^{-\\beta |x-z|} - \\left(\\frac{1}{-1+e^{\\beta\\delta}}\\right)$$\n",
    "\n",
    "Lo importante es notar que cuando $x=z$ el peso es 1 y cuando $x = z +\\delta$ el peso es 0, es decir que no aportará resolver el problema de minimos cuadrados."
   ]
  },
  {
   "cell_type": "code",
   "execution_count": null,
   "id": "0b15d8c7",
   "metadata": {},
   "outputs": [],
   "source": [
    "# No modifique, solo ejecute\n",
    "def exponential_weight(x, z, delta, beta=1):\n",
    "    \"\"\"\n",
    "    input:\n",
    "    x       : (float) value of x point.\n",
    "    z       : (float) value of z point.\n",
    "    delta   : (float) z window size.\n",
    "    beta    : (float) parameter of the exponential weight (float) parameter for exponential function.\n",
    "\n",
    "    output: \n",
    "    w       : (float) weight function evaluation.\n",
    "    \"\"\"\n",
    "    w =  np.exp(beta*delta)/(-1 + np.exp(beta*delta)) * np.exp(-beta*np.abs(x-z)) - 1/(-1 + np.exp(beta*delta))\n",
    "    return w"
   ]
  },
  {
   "cell_type": "markdown",
   "id": "92e54fb6",
   "metadata": {},
   "source": [
    "2.3 **(10 puntos)** Proponga otra función de peso para ser aplicado en el problema de mínimos cuadrados pequeño e implementela en python. Esta función debe cumplir los siguientes criterios:\n",
    "* $w(z) = 1$\n",
    "* $w(z \\pm \\delta) = 0$\n",
    "\n",
    "*Hint: it's not necessarily as complex as the exponential weight.*"
   ]
  },
  {
   "cell_type": "markdown",
   "id": "0669e0f4",
   "metadata": {},
   "source": [
    "**Respuesta:**\n",
    "\n",
    "---\n",
    "\n",
    "*Reemplace este texto por su respuesta.*\n",
    "\n",
    "---"
   ]
  },
  {
   "cell_type": "code",
   "execution_count": null,
   "id": "27aeb4af",
   "metadata": {},
   "outputs": [],
   "source": [
    "def your_weight(x, z, delta):\n",
    "    \"\"\"\n",
    "    input:\n",
    "    x       : (float) value of x point.\n",
    "    z       : (float) value of z point.\n",
    "    delta   : (float) z window size.\n",
    "    \n",
    "    output:\n",
    "    w       : (float) value of your weigth function evaluation.\n",
    "    \"\"\"\n",
    "    # acá va su código\n",
    "    #--------------------------\n",
    "\n",
    "    #--------------------------\n",
    "    return w"
   ]
  },
  {
   "cell_type": "markdown",
   "id": "22f423b8",
   "metadata": {},
   "source": [
    "2.4 **(20 puntos)** Implemente la funcion `weighted_alpha` que permita obtener los coeficientes $\\overline{\\alpha_i(z_k)}$ con $i=0,...,3$ aplicando una función de peso $w(x)$.\n",
    "\n",
    "*Hint: the weight of a point $x$ is apllied to the corresponding row of the Vandermonde matrix and its corresponding $y$ value.*"
   ]
  },
  {
   "cell_type": "code",
   "execution_count": null,
   "id": "260ffd31",
   "metadata": {},
   "outputs": [],
   "source": [
    "def weighted_alphas(x, y, z, delta, w):\n",
    "    \"\"\"\n",
    "    input:\n",
    "    x      : (ndarray)  all the points where the function is evaluated.\n",
    "    y      : (ndarray)  result of the evaluation (with error).\n",
    "    z      : (float)    center of the sliding window for square least problem.\n",
    "    delta  : (float)    max distance from the center for the window.\n",
    "    w      : (callable) weight function to calculate the wheight for each point.\n",
    "\n",
    "    output:\n",
    "    alphas : (ndarray)  arrays with the coefficients alpha_i.\n",
    "    \"\"\"\n",
    "    # acá va su código\n",
    "    #--------------------------\n",
    "    \n",
    "    #--------------------------\n",
    "    return alphas"
   ]
  },
  {
   "cell_type": "markdown",
   "id": "bac0b057",
   "metadata": {},
   "source": [
    "2.5 **(10 puntos)** Explique qué problemas podrían ocurrir si se utiliza una función de peso exponencial y un polinomio suavizante de alto grado. Fundamente su respuesta con los siguientes gráficos y en cómo se implementan los pesos en un problema de mínimos cuadrados."
   ]
  },
  {
   "cell_type": "code",
   "execution_count": null,
   "id": "d1c6dfd6",
   "metadata": {},
   "outputs": [],
   "source": [
    "# No modifique, solo ejecute\n",
    "z = 0\n",
    "delta = 5\n",
    "beta = 3\n",
    "\n",
    "x_plot_weight = np.linspace(-5, 5, 1000)\n",
    "\n",
    "plt.plot(x_plot_weight, exponential_weight(x_plot_weight, z, delta, beta))\n",
    "plt.plot(x_plot_weight, your_weight(x_plot_weight, z, delta))\n",
    "plt.title(\"Weights for z = 0, delta = 5\")\n",
    "plt.xlabel(\"x\")\n",
    "plt.ylabel(\"w(x)\")\n",
    "plt.xticks(np.arange(-5, 6))\n",
    "plt.grid(True)\n",
    "plt.show()"
   ]
  },
  {
   "cell_type": "markdown",
   "id": "71a53b9c",
   "metadata": {},
   "source": [
    "**Respuesta:**\n",
    "\n",
    "---\n",
    "\n",
    "*Reemplace este texto por su respuesta.*\n",
    "\n",
    "---"
   ]
  },
  {
   "cell_type": "markdown",
   "id": "89c7e404",
   "metadata": {},
   "source": [
    "2.6 **(10 puntos)** Analice los métodos propuestos e identifique cual es el que funciona mejor y por qué. Considere que puede modificar el parámetro $\\delta$.\n",
    "\n",
    "*Hint: ¿does the value of $\\delta$ affect the result?*"
   ]
  },
  {
   "cell_type": "code",
   "execution_count": null,
   "id": "cb146730",
   "metadata": {},
   "outputs": [],
   "source": [
    "#Ajuste el valor de delta para obtener resultados deseables para respaldar su respuesta\n",
    "delta = 0"
   ]
  },
  {
   "cell_type": "code",
   "execution_count": null,
   "id": "0fbd53b6",
   "metadata": {},
   "outputs": [],
   "source": [
    "# No modifique, solo ejecute\n",
    "z_values = myChebyshev(-10, 10,1000)\n",
    "\n",
    "alphas0_your_weight = np.zeros(len(z_values))\n",
    "alphas0_exponential = np.zeros(len(z_values))\n",
    "\n",
    "w_y = np.vectorize(your_weight)\n",
    "w_e = np.vectorize(exponential_weight)\n",
    "\n",
    "for i, z in enumerate(z_values):\n",
    "    alphas_your_weight = weighted_alphas(x, y, z, delta, w_y)\n",
    "    alphas_exponential = weighted_alphas(x, y, z, delta, w_e)\n",
    "\n",
    "    alphas0_your_weight[i] = alphas_your_weight[0]\n",
    "    alphas0_exponential[i] = alphas_exponential[0]\n",
    "\n",
    "p_your_weight = scipy.interpolate.BarycentricInterpolator(z_values, alphas0_your_weight)\n",
    "p_w_exponential = scipy.interpolate.BarycentricInterpolator(z_values, alphas0_exponential)\n",
    "\n",
    "f_exact = lambda x: np.cos(x*(2+np.sin(x)/x))\n",
    "\n",
    "fig, ax = plt.subplots(1,3,figsize=(18, 5))\n",
    "\n",
    "ax[0].plot(z_values, p_qr(z_values), label=\"qr\", color=\"g\")\n",
    "ax[0].plot(z_values, f_exact(z_values),label=\"Original\",color=\"r\")\n",
    "ax[0].set_title('Aproximación con mínimos cuadrados general')\n",
    "ax[0].legend(loc=6)\n",
    "ax[0].grid(True)\n",
    "\n",
    "ax[1].plot(z_values, p_w_exponential(z_values), label=\"exponential_weight\",color=\"g\")\n",
    "ax[1].plot(z_values, f_exact(z_values),label=\"Original\",color=\"r\")\n",
    "ax[1].set_title('Aproximación con función de pesos exponenciales')\n",
    "ax[1].legend(loc=6)\n",
    "ax[1].grid(True)\n",
    "\n",
    "ax[2].plot(z_values, p_your_weight(z_values), label=\"your_weight\", color=\"g\")\n",
    "ax[2].plot(z_values, f_exact(z_values),label=\"Original\",color=\"r\")\n",
    "ax[2].set_title('Aproximación con su función de pesos')\n",
    "ax[2].legend(loc=6)\n",
    "ax[2].grid(True)"
   ]
  },
  {
   "cell_type": "markdown",
   "id": "86539533",
   "metadata": {},
   "source": [
    "**Respuesta:**\n",
    "\n",
    "---\n",
    "\n",
    "*Reemplace este texto por su respuesta.*\n",
    "\n",
    "---"
   ]
  },
  {
   "cell_type": "markdown",
   "id": "e922a962",
   "metadata": {},
   "source": [
    "# Pregunta 3\n",
    "\n",
    "Ahora que ha pulido sus técnicas de aproximación de datos con error, está confiado de que podrá encontrar la identidad del intruso a partir del siguiente bosquejo que realizó mientras perseguía al animal."
   ]
  },
  {
   "cell_type": "code",
   "execution_count": null,
   "id": "87c39f72",
   "metadata": {},
   "outputs": [],
   "source": [
    "# No modifique, solo ejecute\n",
    "# Valores recolectados del bosquejo dibujado\n",
    "x_values, y_values = read_data_from_file('data.txt')\n",
    "plt.scatter(x_values, y_values)\n",
    "plt.show()"
   ]
  },
  {
   "cell_type": "markdown",
   "id": "2aa2cb66",
   "metadata": {},
   "source": [
    "3.1 **(4 ptos)** Implemente la función `find_intruder` que recibe como parámetro *x_values* e *y_values*, los cuales corresponden a los puntos dibujados en el plano. La función retorna un *callable* $f$ que aproxima la silueta del intruso.\n",
    "\n",
    "*Hint: you should select wisely your method and its parameters.*"
   ]
  },
  {
   "cell_type": "code",
   "execution_count": null,
   "id": "2cfe0977",
   "metadata": {},
   "outputs": [],
   "source": [
    "def find_intruder(x_values, y_values):\n",
    "    \"\"\"\n",
    "    input:\n",
    "    x_values : (ndarray) values of x.\n",
    "    y_values : (ndarray) values of y.\n",
    "    \n",
    "    output:\n",
    "    f        : (callable) function that aproximates real y values.\n",
    "    \"\"\"\n",
    "    # acá va su código\n",
    "    #--------------------------\n",
    "\n",
    "    #--------------------------\n",
    "    return f"
   ]
  },
  {
   "cell_type": "code",
   "execution_count": null,
   "id": "e2cdcde2",
   "metadata": {},
   "outputs": [],
   "source": [
    "# No modifique, solo ejecute\n",
    "x_plot = np.linspace(x_values[0], x_values[-1], 1000)\n",
    "f = find_intruder(x_values, y_values)\n",
    "plt.plot(x_plot, f(x_plot))\n",
    "plt.title(\"Intruder's silhouette\")\n",
    "plt.xlabel(\"x\")\n",
    "plt.ylabel(\"f(x)\")\n",
    "plt.grid(True)\n",
    "plt.show()"
   ]
  },
  {
   "cell_type": "markdown",
   "id": "dc6bce52",
   "metadata": {},
   "source": [
    "3.2 **(1 punto)** ¿Qué animal es el intruso?"
   ]
  },
  {
   "cell_type": "markdown",
   "id": "ce6d611f",
   "metadata": {},
   "source": [
    "**Respuesta:**\n",
    "\n",
    "---\n",
    "\n",
    "*Reemplace este texto por su respuesta.*\n",
    "\n",
    "---"
   ]
  },
  {
   "cell_type": "markdown",
   "id": "315ae472",
   "metadata": {},
   "source": [
    "\n",
    "\n",
    "\n",
    "**¡Ya ha llegado al final de la tarea 3! Ahora debe enviarla antes de las 23:55 hrs. del viernes 8 de noviembre!**  \n",
    "\n",
    "**Recuerde que el archivo de entrega debe seguir el siguiente formato: “apellido1_apellido2_tarea_numero.ipynb” en minúsculas, y no olvide revisar el reglamento de tareas.**\n"
   ]
  }
 ],
 "metadata": {
  "kernelspec": {
   "display_name": "venv",
   "language": "python",
   "name": "python3"
  },
  "language_info": {
   "codemirror_mode": {
    "name": "ipython",
    "version": 3
   },
   "file_extension": ".py",
   "mimetype": "text/x-python",
   "name": "python",
   "nbconvert_exporter": "python",
   "pygments_lexer": "ipython3",
   "version": "3.12.7"
  }
 },
 "nbformat": 4,
 "nbformat_minor": 5
}
