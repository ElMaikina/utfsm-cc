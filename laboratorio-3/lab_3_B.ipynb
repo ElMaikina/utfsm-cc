{
 "cells": [
  {
   "cell_type": "markdown",
   "id": "9e54aa65",
   "metadata": {},
   "source": [
    "<center>\n",
    "    <img src=\"http://sct.inf.utfsm.cl/wp-content/uploads/2020/04/logo_di.png\" style=\"width:60%\">\n",
    "    <h1> INF285 - Computación Científica </h1>\n",
    "    <h2> Laboratorio 3</h2>\n",
    "    <h2> [S]cientific [C]omputing [T]eam </a> </h2>\n",
    "    <h2> 2025-1</h2>\n",
    "</center>"
   ]
  },
  {
   "cell_type": "code",
   "execution_count": null,
   "id": "bbb96a71",
   "metadata": {},
   "outputs": [],
   "source": [
    "!pip install pillow"
   ]
  },
  {
   "cell_type": "code",
   "execution_count": null,
   "id": "d7cb19d3",
   "metadata": {},
   "outputs": [],
   "source": [
    "import os\n",
    "from PIL import Image\n",
    "import numpy as np\n",
    "import matplotlib.pyplot as plt\n",
    "from scipy.linalg import toeplitz"
   ]
  },
  {
   "cell_type": "markdown",
   "id": "c705bf3f",
   "metadata": {},
   "source": [
    "# Laboratorio 3: Modelado de desenfoque en imágenes mediante operadores lineales\n",
    "# Funciones\n",
    "\n",
    "Para la implementación de las preguntas, considere que **solo** tiene a su disposición las siguientes funciones:\n",
    "* **np.linalg.svd(A, full_matrices=False)**: Calcula la descomposición en valores singulares (SVD) de la matriz **A**. Devuelve tres matrices: **U**, **Σ** (valores singulares) y **$V^\\top$** tales que $A = U \\Sigma V^\\top$.\n",
    "Por ejemplo `A = np.array([[1, 2], [3, 4], [5, 6]])`\n",
    "le aplicamos la descomposicion svd `U, S, VT = np.linalg.svd(A, full_matrices=False)`\n",
    "los output correspondientes serian:\n",
    "    ```python\n",
    "    U: [[-0.2298477   0.88346102]\n",
    "        [-0.52474482  0.24078249]\n",
    "        [-0.81964194 -0.40189603]]\n",
    "    S: [9.52551809 0.51430058]\n",
    "    VT: [[-0.61962948 -0.78489445]\n",
    "         [-0.78489445  0.61962948]]\n",
    "\n",
    "* **np.argsort(a)**: Devuelve los índices que ordenarían un array. Si el array es unidimensional, los índices corresponden al orden ascendente de los elementos. Para arrays multidimensionales, se aplica el ordenamiento aplanando el array primero.\n",
    "`np.argsort([3, 1, 2])` devolvería `[1, 2, 0]`, ya que el índice del menor elemento osea el (1) es la posicion 1, seguido por el índice del siguiente menor elemento (2), que esta en la posicion 2, y finalmente el índice del mayor elemento (3), que esta en la posicion 0.\n",
    "* **np.ravel(a)**: Devuelve una vista aplanada del array de entrada **a**. Si el array es multidimensional, se convierte en un array unidimensional sin copiar los datos siempre que sea posible.Por ejemplo, si se construye la matriz `a = np.array([[1,2],[3,4]])`, y se le aplica `np.ravel(a)` se obtiene `[1 2 3 4]`.\n",
    "\n",
    "* **np.zeros_like(a)**: Devuelve un array de ceros con la misma forma y tipo que el array de entrada **a**. Esto es útil para inicializar matrices o arrays con valores nulos mientras se conserva la estructura del array original.  \n",
    "Por ejemplo, si se construye la matriz `a = np.array([[1, 2], [3, 4]])`, y se le aplica `np.zeros_like(a)` se obtiene `array([[0, 0],[0, 0]])`\n",
    "\n",
    "* **np.linalg.norm(x, ord='fro')**: Calcula la norma de Frobenius de una matriz **x**, que es la raíz cuadrada de la suma de los cuadrados de sus elementos. Es útil para medir la magnitud de una matriz o calcular errores relativos entre matrices.  \n",
    "Por ejemplo, si se construye la matriz `x = np.array([[1, 2], [3, 4]])`, y se le aplica `np.linalg.norm(x, ord='fro')`, se obtiene el resultado `5.477225575051661`, ya que:  \n",
    "$\\sqrt{1^2 + 2^2 + 3^2 + 4^2} = \\sqrt{30} \\approx 5.477$.\n",
    "\n",
    "* **np.diag(a)**: Esta función crea una matriz diagonal a partir de un vector plano (unidimensional). Los elementos del vector se colocan en la diagonal principal de una nueva matriz cuadrada, y el resto de los elementos se rellenan con ceros. Por ejemplo, si `a = np.array([1, 2, 3])`, entonces `np.diag(a)` produce la matriz:\n",
    "    ```python\n",
    "        [[1,0,0]\n",
    "         [0,2,0]\n",
    "         [0,0,3]]"
   ]
  },
  {
   "cell_type": "code",
   "execution_count": null,
   "id": "5b53b3d2",
   "metadata": {},
   "outputs": [],
   "source": [
    "# Construcción de operadores de 'desenfoque'\n",
    "def blur_operator(m, n, bl=1):\n",
    "    \"\"\"\n",
    "    Genera los operadores de convolución 1-D empleados en el paper.\n",
    "\n",
    "    inputs:\n",
    "    ----------\n",
    "    m, n : int\n",
    "        Dimensiones de la imagen (filas = m, columnas = n).\n",
    "    bl : {1, 2}\n",
    "        1  → blur simétrico  (σ_r = σ_c = 0.01)\n",
    "        2  → blur asimétrico (σ_r = 0.02, σ_c = 0.01)\n",
    "    \n",
    "    outputs:\n",
    "    --------\n",
    "    Ac : ndarray (m, m)\n",
    "        Matriz Toeplitz que difumina horizontalmente (columnas).\n",
    "    Ar : ndarray (n, n)\n",
    "        Matriz Toeplitz que difumina verticalmente (filas).\n",
    "    \"\"\"\n",
    "\n",
    "    # --- 1. Parámetros ----------------------------------------------------\n",
    "    sigmac = 0.01\n",
    "    sigmar = 0.02 if bl == 2 else sigmac\n",
    "    # --- 2. Nucleos 1-D ---------------------------------------------------\n",
    "    c_pos = np.linspace(0, 1, m)          # coordenadas normalizadas\n",
    "    r_pos = np.linspace(0, 1, n)\n",
    "\n",
    "    c = np.exp(-0.5 * (c_pos / sigmac) ** 2)\n",
    "    r = np.exp(-0.5 * (r_pos / sigmar) ** 2)\n",
    "\n",
    "    # umbral 1e-4 \n",
    "    c[c < 1e-4] = 0.0\n",
    "    r[r < 1e-4] = 0.0\n",
    "\n",
    "    # normalización: división por (2·sum − valor central)\n",
    "    c /= (2 * c.sum() - c[0])\n",
    "    r /= (2 * r.sum() - r[0])\n",
    "\n",
    "    # --- 3. Matrices Toeplitz --------------------------------------------\n",
    "    Ac = toeplitz(c)          # (m × m)\n",
    "    Ar = toeplitz(r)          # (n × n)\n",
    "    return Ac, Ar\n"
   ]
  },
  {
   "cell_type": "markdown",
   "id": "dc8d3456",
   "metadata": {},
   "source": [
    "\n",
    "# Introducción al Laboratorio 3\n",
    "\n",
    "En este laboratorio, exploraremos el modelado y la restauración de imágenes afectadas por desenfoque y ruido, utilizando herramientas matemáticas avanzadas como la descomposición en valores singulares (SVD). El objetivo principal es comprender cómo los operadores lineales, como las matrices de convolución, pueden simular el desenfoque en imágenes y cómo estas mismas herramientas pueden ser utilizadas para restaurar imágenes degradadas.\n",
    "\n",
    "El proceso de desenfoque se modela mediante matrices Toeplitz que representan convoluciones gaussianas en las direcciones horizontal y vertical. Estas matrices, combinadas con ruido gaussiano, generan una imagen degradada que será el punto de partida para los algoritmos de restauración.\n",
    "\n",
    "A lo largo del laboratorio, se implementarán técnicas basadas en SVD truncado para reconstruir la imagen original a partir de la imagen desenfocada y ruidosa. Además, se analizará el impacto de los valores singulares en la calidad de la reconstrucción, seleccionando los valores más relevantes para minimizar el error relativo entre la imagen original y la reconstruida."
   ]
  },
  {
   "cell_type": "markdown",
   "id": "bcf2125e",
   "metadata": {},
   "source": [
    "# Proceso de desenfoque y degradación de la imagen \n",
    "\n",
    "Utilizamos un desenfoque Gaussiano **asimétrico** para lograr desenfocar la imagen. **En este caso se hará un desenfoque solo con $A_r$**, es decir, la imagen perturbada se obtendrá de la siguiente forma:\n",
    "$$\n",
    "    B_{\\text{data}} = \\underbrace{X_{\\text{true}}\\,A_r^\\top}_{\\displaystyle{B_{\\text{true}}}} + \\Xi\n",
    "$$\n",
    "donde $\\Xi$ es el ruido agregado.\n",
    "Para la caracterización del ruido $\\Xi$  se utilizará el SNR (_signal-to-noise-ratio_), el cual se define de la siguiente forma,\n",
    "$$\n",
    "SNR = 10 \\cdot \\log_{10} \\left( \\frac{ \\| B_{\\text{true}} \\|_F^2 }{ \\| \\Xi \\|_F^2 } \\right)\n",
    "$$\n",
    "la cual se especificará más adelante.\n",
    "\n",
    "**NOTAR que este desenfoque propuesto es una versión reducida del presentado en el contexto del laboratorio, por lo cual debe tomar ventaja de esta simplificación significativa.**\n",
    "\n",
    "A continuación se presenta el **forward problem**, es decir la construcción de una imagen degradada a partir de una imagen detallada.\n",
    "Este procedimiento ya fue incluido en el contexto también."
   ]
  },
  {
   "cell_type": "code",
   "execution_count": null,
   "id": "6a1d9a45",
   "metadata": {},
   "outputs": [],
   "source": [
    "# Añadiendo ruido y desenfoque a la imagen\n",
    "# -------------------------------\n",
    "# Paso 1: Cargar imagen original y convertir a escala de grises\n",
    "img = Image.open(\"img.jpg\").convert(\"L\")\n",
    "img = img.resize((512, 512))\n",
    "X_true = np.array(img) / 255.0  # Imagen original normalizada\n",
    "\n",
    "# -------------------------------\n",
    "# Creando las matrices de desenfoque gaussiano simétrico\n",
    "_, Ar = blur_operator(512, 512, bl=1)\n",
    "# -------------------------------\n",
    "# Aplicando el desenfoque gaussiano a la imagen original\n",
    "B_true = X_true @ Ar.T\n",
    "# Añadiendo ruido gaussiano a la imagen desenfocada\n",
    "E = np.load(\"ruido.npy\")\n",
    "B_data = B_true + E\n",
    "snr_db = 10*np.log10(np.power(np.linalg.norm(B_true,'fro')/np.linalg.norm(E),2.))\n",
    "# -------------------------------\n",
    "# Visualización\n",
    "plt.figure(figsize=(8, 5))\n",
    "plt.subplot(1, 3, 1)\n",
    "plt.imshow(X_true, cmap='gray')\n",
    "plt.title(\"Imagen original(X_true)\")\n",
    "plt.axis('off')\n",
    "\n",
    "plt.subplot(1, 3, 2)\n",
    "plt.imshow(B_true, cmap='gray')\n",
    "plt.title(\"Desenfoque gaussiano(B_true)\")\n",
    "plt.axis('off')\n",
    "\n",
    "plt.subplot(1, 3, 3)\n",
    "plt.imshow(B_data, cmap='gray')\n",
    "plt.title(f\"Con ruido SNR = {snr_db:.1f}dB (B_data)\")\n",
    "plt.axis('off')\n",
    "\n",
    "plt.tight_layout()\n",
    "plt.show()"
   ]
  },
  {
   "cell_type": "markdown",
   "id": "4383d2f9",
   "metadata": {},
   "source": [
    "A modo referencial, se recuerda que la relación entre la imagen degradada ($B_{\\text{data}}$) y la imagen original ($X_{\\text{true}}$) satisface la siguiente ecuación,\n",
    "$$\n",
    "    B_{\\text{data}} = X_{\\text{true}}\\,A_r^{\\top}+ \\Xi\n",
    "$$"
   ]
  },
  {
   "cell_type": "markdown",
   "id": "213a6b7b",
   "metadata": {},
   "source": [
    "## Proceso de truncamiento para limpiar el ruido y el desenfoque de la imagen $B_{\\text{data}}$\n",
    "\n",
    "Sea $A_r$ la matriz de convolución por filas, matriz transpuesta multiplicada por la derecha a la imagen.\n",
    "\n",
    "Construyendo la factorización SVD de $A_r$ obtenemos:\n",
    "\n",
    "$$\n",
    "A_r = U_r \\Sigma_r V_r^\\top \n",
    "$$\n",
    "\n",
    "Para obtener la reconstrucción $X_{\\text{recon}}$ de la imagen original $X_{\\text{true}}$, se necesita construir $(A_{r,\\text{trunc}}^{\\top})^{-1}$, la cual se obtendrá por medio de la SVD anterior.\n",
    "Es decir, definimos la reconstrucción de la siguiente forma\n",
    "$$\n",
    "X_{\\text{recon}} = B_{\\text{data}}\\,(A_{r,\\text{trunc}}^{\\top})^{-1}\n",
    "$$\n",
    "Utilizando la SVD de $A_r$, podemos obtener $(A_{r,\\text{trunc}}^{\\top})^{-1}$ de la siguiente forma,\n",
    "$$\n",
    "X_{\\text{recon}} = B_{\\text{data}}\\,U_r\\,\\widehat{\\Sigma}_r\\,V_r^{\\top}\\,.\n",
    "$$\n",
    "donde,\n",
    "$$\n",
    "\\left(\\widehat{\\Sigma}_r\\right)_{i,j} =\n",
    "\\begin{cases}\n",
    "    \\frac{1}{(\\sigma_r)_i} &  \\text{ si $i \\leq k$ e $i=j$}, \\\\\n",
    "    0 & \\text{en todo otro caso},\n",
    "\\end{cases}\n",
    "$$\n",
    "donde $i,j\\in \\{1,2,3,\\dots,n\\}$, es decir se indexan desde $1$.\n",
    "**Esto significa que solo seleccionaremos los $k$ valores singulares $\\sigma_r$ mayores para poder truncar el operador.**\n",
    "Así, $\\widehat{\\Sigma}_r$ solo conserva la información de los valores singulares significativos, eliminando el efecto de los valores singulares pequeños asociados principalmente al ruido.\n",
    "Ahora, por conveniencia, se define la siguiente matriz,\n",
    "$$\n",
    "\\widehat{B} = B_{\\text{data}}\\,U_r\n",
    "$$\n",
    "Así, la reconstrucción queda:\n",
    "$$\n",
    "X_{\\text{recon}} = \\left(\\widehat{B}\\,\\widehat{\\Sigma}_r\\, \\right)\\,V_r^{\\top}\n",
    "$$\n"
   ]
  },
  {
   "cell_type": "markdown",
   "id": "8ec066da",
   "metadata": {},
   "source": [
    "### Pregunta 1.1 (20 pts)\n",
    "\n",
    "En este pregunta se debe construir y retornar la matriz $\\widehat{\\Sigma}_r$ definida anteriormente.\n",
    "Se recibe como parámetros un vector con los valores singulares de $A_r$ y $k$."
   ]
  },
  {
   "cell_type": "code",
   "execution_count": null,
   "id": "3295c5f9",
   "metadata": {},
   "outputs": [],
   "source": [
    "def matriz_Sigma_hat(sigma,k):\n",
    "    \"\"\"\n",
    "    input:\n",
    "    sigma : array(n)\n",
    "        Vector sigma (contiene los valores sigulares).      \n",
    "    k : int\n",
    "        Número de valores singulares a truncar.             \n",
    "    output:\n",
    "    Sigma_hat : ndarray (n, n)\n",
    "        Devuelve una matriz con el recíproco de los k valores singulares mayores.\n",
    "    \"\"\"\n",
    "    #--- acá va su código aquí ----\n",
    "    \n",
    "    #------------------------------ \n",
    "    return Sigma_hat"
   ]
  },
  {
   "cell_type": "markdown",
   "id": "086210b6",
   "metadata": {},
   "source": [
    "### Pregunta 1.2 (40 pts)\n",
    "Implemente la restauración de la imagen $B_{\\text{data}}$ usando el procedimento explicado anteriormente, cuando solo se le aplica un desenfoque por filas."
   ]
  },
  {
   "cell_type": "code",
   "execution_count": null,
   "id": "4b7a5d26",
   "metadata": {},
   "outputs": [],
   "source": [
    "def restaurar_imagen(B_data,Ar,k):\n",
    "    \"\"\"\n",
    "    input:  \n",
    "    B_data : ndarray (m, n)\n",
    "        Imagen borrosa y ruidosa (con ruido gaussiano).\n",
    "    Ar : ndarray (n, n)\n",
    "        Matriz Toeplitz que difumina verticalmente (filas).\n",
    "    k : int\n",
    "        Número de valores singulares a truncar.\n",
    "    output:\n",
    "    X_recon : ndarray (m, n)\n",
    "        Imagen restaurada (con ruido y desenfoque).\n",
    "    \"\"\"\n",
    "    #--- acá va su código aquí ----\n",
    "    \n",
    "    #------------------------------ \n",
    "    return X_recon "
   ]
  },
  {
   "cell_type": "markdown",
   "id": "93d45811",
   "metadata": {},
   "source": [
    "mostrar en pantalla la imagen reconstruida"
   ]
  },
  {
   "cell_type": "code",
   "execution_count": null,
   "id": "fbdc9f9d",
   "metadata": {},
   "outputs": [],
   "source": [
    "### Solo debe ejecutar esta celda\n",
    "X_recon = restaurar_imagen(B_data,Ar,k=50)  \n",
    "\n",
    "plt.figure(figsize=(5,4))\n",
    "plt.imshow(X_recon, cmap='gray')\n",
    "plt.axis('off')\n",
    "plt.title('Reconstrucción completa')\n",
    "plt.tight_layout()\n",
    "plt.show()"
   ]
  },
  {
   "cell_type": "markdown",
   "id": "df4c911d-f653-4f78-b32a-75ba68db17df",
   "metadata": {},
   "source": [
    "# 2. K óptimo para la reconstrucción mediante MRE."
   ]
  },
  {
   "cell_type": "markdown",
   "id": "0fec5bab-da86-4a83-941a-7dbd91d43e0e",
   "metadata": {},
   "source": [
    "Dado un conjunto de datos de imágenes difuminadas y con ruido almacenadas en la carpeta `imgResBlur/` y sus imágenes originales `imgRes/` correspondiente, es posible calcular el $k$ óptimo para la restauración de imágenes con ruido mediante la minimización del MRE,  el cual corresponde a:\n",
    "$$ \n",
    "\\Phi_{MRE}(k) = \\frac{1}{N} \\sum^{N}_{n=1} \\mathcal{E}(n,k),\n",
    "$$\n",
    "donde $\\mathcal{E} (n,k)$ corresponde al error relativo absoluto de la $n$-ésima imágen en comparación con la reconstrucción de la $n$-ésima imagen usando $k$ componentes. $N$ corresponde a la cantidad de imágenes en el dataset."
   ]
  },
  {
   "cell_type": "markdown",
   "id": "fff493b4-4af9-404b-ac22-f4297724637b",
   "metadata": {},
   "source": [
    "### Utils:\n",
    "Función para cargar los datos y variables globales."
   ]
  },
  {
   "cell_type": "code",
   "execution_count": null,
   "id": "5e05f5a4",
   "metadata": {},
   "outputs": [],
   "source": [
    "def loadData(directorio='imgRes/', batch=10):\n",
    "    try:\n",
    "        archivos = os.listdir(directorio)\n",
    "        archivos = sorted(archivos)\n",
    "    except FileNotFoundError:\n",
    "        print(f\"El directorio {directorio} no existe\")\n",
    "        return 0\n",
    "\n",
    "    i = 0\n",
    "    data = []\n",
    "    for imagen in archivos:\n",
    "        img = Image.open(directorio+imagen)\n",
    "        data.append(np.array(img))\n",
    "    \n",
    "        i += 1\n",
    "        if i == batch:\n",
    "            break\n",
    "    data = np.stack(data)\n",
    "    return data\n",
    "\n",
    "#Variables globales:\n",
    "imgShape = 128\n",
    "_, Arm = blur_operator(imgShape, imgShape, bl=1)\n",
    "\n",
    "#Cargar ground Truth\n",
    "imgsTrue = loadData(directorio='imgRes/', batch=40)\n",
    "\n",
    "#Cargar imágenes con blur\n",
    "imgsBlur = loadData(directorio='imgResBlur/', batch=40)"
   ]
  },
  {
   "cell_type": "markdown",
   "id": "5fd7f53d",
   "metadata": {},
   "source": [
    "### Pregunta 2.1 (10 pts)\n",
    "Construya la función que calcule el **error relativo** entre la imagen original $Y$ y su respectiva reconstrucción $X$, es decir debe obtener la siguiente expresión,\n",
    "$$\n",
    "    err = \\dfrac{\\|X-Y\\|_{\\text{F}}}{\\|Y\\|_{\\text{F}}},\n",
    "$$\n",
    "donde $\\|\\cdot\\|_{\\text{F}}$ corresponde a la norma matricial de Frobenious.\n"
   ]
  },
  {
   "cell_type": "code",
   "execution_count": null,
   "id": "8909097b",
   "metadata": {},
   "outputs": [],
   "source": [
    "def relativo(X, Y):\n",
    "    \"\"\"\n",
    "    input:\n",
    "    X: ndarray\n",
    "        Imagen reconstruida\n",
    "    Y: ndarray\n",
    "        Imagen original\n",
    "    output:\n",
    "    err : float\n",
    "        Error relativo absoluto \n",
    "    \"\"\"\n",
    "    #--- acá va su código aquí ----\n",
    "    \n",
    "    #------------------------------ \n",
    "    return err"
   ]
  },
  {
   "cell_type": "markdown",
   "id": "faaf1fbf",
   "metadata": {},
   "source": [
    "El siguiente código obtiene el MRE pero requiere la implementación previa de `restaurar_imagen` y `error_relativo`."
   ]
  },
  {
   "cell_type": "code",
   "execution_count": null,
   "id": "9b5515a7",
   "metadata": {},
   "outputs": [],
   "source": [
    "def getMRE(B, T, Ar, k):\n",
    "    \"\"\"\n",
    "    input:\n",
    "    B : ndarray\n",
    "        Lista de imágenes borrosas y ruidosas, \n",
    "            donde B[i] es la i-ésima imagen degradada\n",
    "    T: ndarray\n",
    "        Lista de imágenes originales, \n",
    "            donde T[i] es la i-ésima imagen original\n",
    "    Ar : ndarray\n",
    "        Matriz Toeplitz que difumina verticalmente (filas).\n",
    "    k: int\n",
    "        k componentes para reconstruir las imágenes.\n",
    "    output:\n",
    "    mre : ndarray\n",
    "        Valor del mre.\n",
    "    \"\"\"\n",
    "    mre = 0\n",
    "    for n in range(T.shape[0]):      \n",
    "        X_rest = restaurar_imagen( B[n], Ar, k)\n",
    "        mre += relativo(X_rest, T[n])\n",
    "    mre /= T.shape[0]\n",
    "    return mre"
   ]
  },
  {
   "cell_type": "markdown",
   "id": "bd9513a4-a722-4efb-828d-5ec98c1ab4db",
   "metadata": {},
   "source": [
    "## Pregunta 3\n",
    "Ejecute la celda\n",
    "\n",
    "**Nota: Se demora menos de 1 minuto.**"
   ]
  },
  {
   "cell_type": "code",
   "execution_count": null,
   "id": "ca8c5380",
   "metadata": {},
   "outputs": [],
   "source": [
    "K = np.logspace(0, 3, 80, dtype=int)\n",
    "fun_mre = lambda k: getMRE(B=imgsBlur, T=imgsTrue, Ar=Arm, k=k)\n",
    "fun_mre_vectorized = np.vectorize(fun_mre)\n",
    "res = fun_mre_vectorized(K)\n",
    "\n",
    "plt.figure()\n",
    "plt.loglog(K, res, '.', label='mre')\n",
    "plt.grid(True)\n",
    "plt.ylabel('$\\\\Phi_{MRE}(k)$')\n",
    "plt.xlabel('k')\n",
    "plt.legend()\n",
    "plt.show()"
   ]
  },
  {
   "cell_type": "markdown",
   "id": "5700a1eb-0014-483e-8f52-6dcd33111df1",
   "metadata": {},
   "source": [
    "### Pregunta 3.1 (20 pts)\n",
    "Explique a qué se debe el comportamiento en los extremos del dominio del experimento numérico anterior."
   ]
  },
  {
   "cell_type": "markdown",
   "id": "57d37c4b-1196-49c8-ba80-00128e350062",
   "metadata": {},
   "source": [
    "----------------------------------------------------------------------\n",
    "**Respuesta:** \n",
    "\n",
    "----------------------------------------------------------------------"
   ]
  },
  {
   "cell_type": "markdown",
   "id": "cb4f049b-2136-4e1c-8cd3-84152c50656f",
   "metadata": {},
   "source": [
    "### Pregunta 3.2 (10 pts)\n",
    "El fundamento de hacer el experimento numérico anterior es obtener una $k$ óptimo y aplicarlo a imágenes degradadas, y que no se tiene acceso a su imagen original. \n",
    "En base al gráfico anterior, escoja un valor el $k$ óptimo y **justifique** su elección.\n",
    "\n",
    "**NOTA: En la siguiente celda debe incluir el valor de $k$ elegido para que pueda ver su resultado.**"
   ]
  },
  {
   "cell_type": "markdown",
   "id": "09acf2b5",
   "metadata": {},
   "source": [
    "--------------------------------------------------------\n",
    "**Respuesta:** \n",
    "\n",
    "--------------------------------------------------------"
   ]
  },
  {
   "cell_type": "code",
   "execution_count": null,
   "id": "4368443b",
   "metadata": {},
   "outputs": [],
   "source": [
    "#----coloque el valor de k aquí----\n",
    "k_optimo = \n",
    "#----------------------------------------------\n",
    "print(k_optimo)"
   ]
  },
  {
   "cell_type": "code",
   "execution_count": null,
   "id": "2b34daf8",
   "metadata": {},
   "outputs": [],
   "source": [
    "img = Image.open(\"end_B.jpg\").convert(\"L\")\n",
    "img = img.resize((128,128))\n",
    "\n",
    "plt.figure(figsize=(10, 8))\n",
    "\n",
    "plt.subplot(1, 2, 1)\n",
    "plt.imshow(img, cmap='gray')\n",
    "plt.title(\"Image blurry and noisy\")\n",
    "plt.axis('off')\n",
    "\n",
    "plt.subplot(1, 2, 2)\n",
    "img_res = restaurar_imagen(img, Arm, k_optimo)\n",
    "plt.imshow(img_res, cmap='gray')\n",
    "plt.title(\"Image noisy and blurry fixed\")\n",
    "plt.axis('off')\n",
    "\n",
    "plt.tight_layout()\n",
    "plt.show()"
   ]
  }
 ],
 "metadata": {
  "kernelspec": {
   "display_name": "base",
   "language": "python",
   "name": "python3"
  },
  "language_info": {
   "codemirror_mode": {
    "name": "ipython",
    "version": 3
   },
   "file_extension": ".py",
   "mimetype": "text/x-python",
   "name": "python",
   "nbconvert_exporter": "python",
   "pygments_lexer": "ipython3",
   "version": "3.12.2"
  }
 },
 "nbformat": 4,
 "nbformat_minor": 5
}
