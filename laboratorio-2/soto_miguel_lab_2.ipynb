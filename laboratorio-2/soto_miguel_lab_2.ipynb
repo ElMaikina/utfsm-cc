{
  "cells": [
    {
      "cell_type": "markdown",
      "metadata": {
        "id": "i8CqoAm_3HT_"
      },
      "source": [
        "<center>\n",
        "    <img src=\"http://sct.inf.utfsm.cl/wp-content/uploads/2020/04/logo_di.png\" style=\"width:60%\">\n",
        "    <h1> INF285 - Computación Científica </h1>\n",
        "    <h2> Laboratorio 2</h2>\n",
        "    <h2> [S]cientific [C]omputing [T]eam </a> </h2>\n",
        "    <h2> 2025-1</h2>\n",
        "</center>"
      ]
    },
    {
      "cell_type": "code",
      "execution_count": 113,
      "metadata": {
        "id": "pjlqL3R4jSd1"
      },
      "outputs": [],
      "source": [
        "import numpy as np"
      ]
    },
    {
      "cell_type": "markdown",
      "metadata": {
        "id": "vuLq2x0C3t2y"
      },
      "source": [
        "# Funciones\n",
        "\n",
        "Para la implementación de las preguntas, considere que **solo** tiene a su disposición las siguientes funciones:\n",
        "\n",
        "* **np.array(x)**: Convierte **x** en un arreglo de NumPy.\n",
        "* **np.arange(n)**: Para **n** un número entero positivo entrega un vector de largo **n** con números enteros desde 0 a n-1.\n",
        "* **np.abs(x)**: Entrega el valor absoluto de **x**.\n",
        "* **np.power(x)**: Evalúa la expresión $x^n$ si **x** y **n** son escalares. En caso de que **x** e **n** sean vectores, deben tener la misma\n",
        "dimensión y entrega la evaluación elemento a elemento. Si solo uno de los términos es un vector, entrega el vector donde\n",
        "el término constante se consideró para cada término de vector.\n",
        "* **np.sqrt(x)**: Entrega la evaluación de la raíz cuadrada no negativa de un vector o escalar **x**.\n",
        "* **np.sum(x)**: Entrega la suma de los elementos de un vector **x**.\n",
        "* **solve_palu(A,b)**: Realiza el método PALU para resolver el sistema $A\\vec{x}=\\vec{b}$ y retorna la solución.\n",
        "* **jacobi(A,b)**: Realiza el método de Jacobi para resolver el sistema $A\\vec{x}=\\vec{b}$ y retorna la matriz de iteraciones del vector solución $\\vec{x}$.\n",
        "* **jacobi_Matricial(A, b, n_iter=50)**: Realiza el método iterativo de Jacobi para resolver el sistema $A\\vec{x}=\\vec{b}$. Retorna una matriz donde cada fila corresponde a una iteración del vector solución $\\vec{x}$.\n",
        "\n",
        "* **np.linalg.norm(A, ord=1)**: Calcula la norma 1 de la matriz **A**, es decir, la suma máxima de valores absolutos por columna.\n",
        "\n",
        "* **np.linalg.norm(A, ord=np.inf)**: Calcula la norma infinito de la matriz **A**, es decir, la suma máxima de valores absolutos por fila.\n",
        "\n",
        "* **np.linalg.norm(A, ord=2)**: Calcula la norma 2 (o espectral) de la matriz **A**, que corresponde al mayor valor singular.\n",
        "\n",
        "* **np.tril(A, k=0)**: Retorna una copia de la matriz **A** con todos los elementos por encima de la k-ésima diagonal puestos a cero. Por defecto, se obtiene la parte triangular inferior estricta con `k=-1`.\n",
        "\n",
        "* **np.triu(A, k=0)**: Similar a `np.tril`, pero retorna la parte triangular superior de la matriz **A**.\n",
        "\n",
        "* **np.diag(A)**: Si **A** es una matriz, retorna el vector con sus elementos diagonales. Si **A** es un vector, crea una matriz diagonal con esos elementos.\n"
      ]
    },
    {
      "cell_type": "code",
      "execution_count": 114,
      "metadata": {
        "id": "JW3QqzMz4s9c"
      },
      "outputs": [],
      "source": [
        "def solve_triangular(A, b, upper=True):\n",
        "    n = b.shape[0]\n",
        "    x = np.zeros_like(b)\n",
        "    if upper==True:\n",
        "        #perform backward-substitution\n",
        "        x[-1] = (1./A[-1,-1]) * b[-1]\n",
        "        for i in range(n-2, -1, -1):\n",
        "            x[i] = (1./A[i,i]) * (b[i] - np.sum(A[i,i+1:] * x[i+1:]))\n",
        "    else:\n",
        "        #perform forward-substitution\n",
        "        x[0] = (1./A[0,0]) * b[0]\n",
        "        for i in range(1,n):\n",
        "            x[i] = (1./A[i,i]) * (b[i] - np.sum(A[i,:i] * x[:i]))\n",
        "    return x\n",
        "\n",
        "\n",
        "#permutation between rows i and j on matrix A\n",
        "def row_perm(A, i, j):\n",
        "    tmp = np.copy(A[i])\n",
        "    A[i] = A[j]\n",
        "    A[j] = tmp\n",
        "\n",
        "\n",
        "def palu_decomp(A, show=False, print_precision=2):\n",
        "    N,_ = A.shape\n",
        "    P = np.identity(N)\n",
        "    L = np.zeros((N,N))\n",
        "    U = np.copy(A)\n",
        "    if show:\n",
        "        print('Initial matrices')\n",
        "        print('P = '); print(np.array_str(P, precision=print_precision, suppress_small=True))\n",
        "        print('L = '); print(np.array_str(L+np.eye(N), precision=print_precision, suppress_small=True))\n",
        "        print('U = '); print(np.array_str(U, precision=print_precision, suppress_small=True))\n",
        "        print('----------------------------------------')\n",
        "    #iterating through columns\n",
        "    for j in range(N-1):\n",
        "        #determine the new pivot\n",
        "        p_index = np.argmax(np.abs(U[j:,j]))\n",
        "        if p_index != 0:\n",
        "            row_perm(P, j, j+p_index)\n",
        "            row_perm(U, j, j+p_index)\n",
        "            row_perm(L, j, j+p_index)\n",
        "            if show:\n",
        "                print('A permutation has been made')\n",
        "                print('P = '); print(np.array_str(P, precision=print_precision, suppress_small=True))\n",
        "                print('L = '); print(np.array_str(L+np.eye(N), precision=print_precision, suppress_small=True))\n",
        "                print('U = '); print(np.array_str(U, precision=print_precision, suppress_small=True))\n",
        "                print('----------------------------------------')\n",
        "        #iterating through rows\n",
        "        for i in range(j+1,N):\n",
        "            L[i,j] = U[i,j]/U[j,j]\n",
        "            U[i] -= L[i,j]*U[j]\n",
        "            if show:\n",
        "                print('P = '); print(np.array_str(P, precision=print_precision, suppress_small=True))\n",
        "                print('L = '); print(np.array_str(L+np.eye(N), precision=print_precision, suppress_small=True))\n",
        "                print('U = '); print(np.array_str(U, precision=print_precision, suppress_small=True))\n",
        "                print('----------------------------------------')\n",
        "    np.fill_diagonal(L,1)\n",
        "    return P,L,U\n",
        "\n",
        "\n",
        "def solve_palu(A, b, show=False, print_precision=2):\n",
        "    P,L,U = palu_decomp(A, show, print_precision=print_precision)\n",
        "    # A.x = b -> P.A.x = P.b = b' -> L.U.x = b'\n",
        "    b = np.dot(P,b)\n",
        "    # L.c = b' with c = U.x\n",
        "    c = solve_triangular(L, b, upper=False)\n",
        "    x = solve_triangular(U, c)\n",
        "    return x\n",
        "\n",
        "\n",
        "def jacobi(A, b, n_iter=50):\n",
        "    n = A.shape[0]\n",
        "    #array with solutions\n",
        "    X = np.empty((n_iter, n))\n",
        "    #initial guess\n",
        "    X[0] = np.zeros(n)\n",
        "    #submatrices\n",
        "    D = np.diag(A)\n",
        "    Dinv = D**-1\n",
        "    R = A - np.diag(D) # R = (L+U)\n",
        "\n",
        "    for i in range(1, n_iter):\n",
        "        X[i] = Dinv*(b - np.dot(R, X[i-1]))\n",
        "\n",
        "    return X\n",
        "\n",
        "\n",
        "def jacobi_Matricial(A,b, n_iter=50):\n",
        "    n = A.shape[0]\n",
        "    #array with solutions\n",
        "    X = np.empty((n_iter, n))\n",
        "    #initial guess\n",
        "    X[0] = np.zeros(n)\n",
        "\n",
        "    L = np.tril(A,-1)\n",
        "    U = np.triu(A,1)\n",
        "    D = np.diag(np.diag(A))\n",
        "    M = -np.dot(np.linalg.inv(D),L+U)\n",
        "    b_hat= np.dot(np.linalg.inv(D),b)\n",
        "\n",
        "    for i in range(1, n_iter):\n",
        "        X[i] = np.dot(M,X[i-1]) + b_hat\n",
        "\n",
        "    return X"
      ]
    },
    {
      "cell_type": "markdown",
      "metadata": {
        "id": "n0pio9qR216D"
      },
      "source": [
        "# Método de Jacobi Matricial\n",
        "Existen 2 formas alternativas de definir el método de *Jacobi*, y cada una tiene su utilidad propia. La segunda forma alternativa del método de Jacobi se basa en escribirlo en la siguiente forma $\\mathbf{x}_{i+1} = M\\,\\mathbf{x}_i +\\widehat{\\mathbf{b}}.$\n",
        "Es decir, la iteración de punto fijo se re-escribe como el producto de la matriz $M$ con el vector $x_i$ más un vector\n",
        "constante $\\widehat{\\mathbf{b}}$. La cual se obtiene el siguiente desarrollo:\n",
        "$$\n",
        "\\begin{align*}\n",
        "    \\mathbf{x}_{i+1} &= D^{-1}(\\mathbf{b}-(L+U)\\,\\mathbf{x}_i)\\\\\n",
        "    &= D^{-1}\\mathbf{b}-D^{-1}(L+U)\\,\\mathbf{x}_i\\\\\n",
        "    &= -D^{-1}(L+U)\\,\\mathbf{x}_i+D^{-1}\\mathbf{b}\n",
        "\\end{align*}\n",
        "$$\n",
        "\n",
        "Entonces, la matriz $M$ para el método de Jacobi corresponde a $M = −D^{−1}(L+U)$ y el vector constante a $\\widehat{\\mathbf{b}} = D^{−1}\\,\\mathbf{b}$.\n",
        "\n",
        "Si definimos el error como en $e_{n+1}= \\|x_{n+1} −x_n\\|$, obtenemos la siguiente relación:\n",
        "$$e_{n+1} \\leq \\|M\\|e_n$$\n",
        "\n",
        "De la desigualdad anterior podemos concluir que si $\\|M\\| \\le 1$, entonces el método reducirá el error, por lo tanto\n",
        "convergerá. Una posible norma a utilizar es $\\|M\\|_{∞}$, pero se puede utilizar cualquier norma matricial. En realidad,\n",
        "si se puede demostrar que para alguna norma matricial $\\|M\\| \\le 1$, entonces el método iterativo anteriormente\n",
        "descrito convergerá."
      ]
    },
    {
      "cell_type": "markdown",
      "metadata": {
        "id": "T63qPAQ0gfYM"
      },
      "source": [
        "# Resistencias variables\n",
        "\n",
        "Hasta ahora, el análisis de la red hidráulica se ha basado en un modelo donde los canales presentaban una resistencia constante. Esto permitió asumir una relación directa entre la diferencia de presión entre dos nodos y el caudal que circula por el canal que los conecta.\n",
        "\n",
        "Ahora, con el fin de representar de manera más realista el efecto de la fricción en los conductos, se propone un nuevo modelo donde la resistencia ya no es constante, sino que depende de la magnitud del flujo. En particular, se considerará que la resistencia en cada canal está dada por:\n",
        "\n",
        "$$\n",
        "R_{ij} = R_0 \\cdot \\left(1 + \\alpha (p_i - p_j)^2\\right)\n",
        "$$\n",
        "\n",
        "donde:\n",
        "\n",
        "* $R_0 > 0$ es una resistencia base,\n",
        "* $\\alpha > 0$ es un coeficiente de fricción.\n",
        "\n",
        "Esto modifica la expresión del flujo, que ahora se calcula como:\n",
        "\n",
        "$$\n",
        "q_{ij} = \\frac{p_i - p_j}{R_0 \\cdot \\left(1 + \\alpha (p_i - p_j)^2\\right)}\n",
        "$$\n",
        "\n",
        "Y, como en etapas anteriores, la ley de conservación de masa debe cumplirse en cada nodo. Es decir, la suma de los caudales que entran y salen de un nodo debe ajustarse al caudal neto $d_i$ en dicho nodo:\n",
        "\n",
        "$$\n",
        "\\sum_{\\text{entradas}(i)} \\frac{p_j - p_i}{R_0 \\cdot (1 + \\alpha (p_i - p_j)^2)} + \\sum_{\\text{salidas}(i)} \\frac{p_i - p_j}{R_0 \\cdot (1 + \\alpha (p_i - p_j)^2)} = d_i\n",
        "$$\n",
        "\n",
        "En particular, considere la siguiente red de canales hidráulicos:\n",
        "\n"
      ]
    },
    {
      "cell_type": "markdown",
      "metadata": {
        "id": "yvYH9Rndi2BU"
      },
      "source": [
        "![image.png](data:image/png;base64,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)"
      ]
    },
    {
      "cell_type": "markdown",
      "metadata": {
        "id": "2zASSPAKnJMa"
      },
      "source": [
        "Para esta red, la aplicación de la ley de conservación de masa en cada nodo, utilizando la relación caudal-presión definida por la resistencia $R_ij(p_i−p_j)$, entrega el siguiente sistema de ecuaciones:\n",
        "\n",
        "$$ (nodo ; 1) \\qquad {\\frac{p_{1}-p_{2}}{R_{0} * (1 + \\alpha* (p_{1}-p_{2})^{2})}} +  {\\frac{p_{1}-p_{3}}{R_{0} * (1 + \\alpha* (p_{1}-p_{3})^{2})}} = -5$$\n",
        "\n",
        "$$  (nodo ; 2) \\qquad {\\frac{p_{1}-p_{2}}{R_{0} * (1 + \\alpha* (p_{2}-p_{1})^{2})}} + {\\frac{p_{2}-p_{3}}{R_{0} * (1 + \\alpha* (p_{2}-p_{3})^{2})}}+ {\\frac{p_{2}-p_{4}}{R_{0} * (1 + \\alpha* (p_{2}-p_{4})^{2})}} = 0$$\n",
        "\n",
        "$$ (nodo ; 3) \\qquad {\\frac{p_{1}-p_{3}}{R_{0} * (1 + \\alpha* (p_{3}-p_{1})^{2})}} + {\\frac{p_{2}-p_{3}}{R_{0} * (1 + \\alpha* (p_{3}-p_{2})^{2})}} + {\\frac{p_{3}-p_{4}}{R_{0} * (1 + \\alpha* (p_{3}-p_{4})^{2})} } = 0$$\n",
        "\n",
        "$$ (nodo ; 4) \\qquad {\\frac{p_{2}-p_{4}}{R_{0} * (1 + \\alpha* (p_{4}-p_{2})^{2})}} +  {\\frac{p_{3}-p_{4}}{R_{0} * (1 + \\alpha* (p_{4}-p_{3})^{2})}} = 5$$\n",
        "\n",
        "\n",
        "\n"
      ]
    },
    {
      "cell_type": "markdown",
      "metadata": {
        "id": "4TKh9hwltbkX"
      },
      "source": [
        "# Preguntas"
      ]
    },
    {
      "cell_type": "markdown",
      "metadata": {
        "id": "_VMaO1TAhhrD"
      },
      "source": [
        "1. **(10 puntos)**\n",
        "Como se ha observado en el contexto anterior, es posible utilizar métodos para resolver sistemas de ecuaciones lineales y así determinar los valores de presiones $p$ en una red hidráulica. Suponga ahora que los valores de caudal de entrada y salida del sistema cambian constantemente, mientras que la estructura del circuito permanece fija. ¿Cuál de los métodos conocidos recomendaría utilizar en este caso y por qué?\n",
        "*hint: Think about what changes in the system of equations*"
      ]
    },
    {
      "cell_type": "markdown",
      "metadata": {
        "id": "f1e7bNVAtgz2"
      },
      "source": [
        "Como las ecuaciones pueden representarse como sistemas matriciales, y solo cambiaran los coeficientes a la derecha, entonces podemos utilizar el metodo PALU para resolver el problema. Como PALU crea una descomposicion de la matriz A, entonces podremos resolver el sistema eficientemente para cualquier b."
      ]
    },
    {
      "cell_type": "markdown",
      "metadata": {
        "id": "BG9FZ9e3ptLu"
      },
      "source": [
        "2. **(10 puntos)**\n",
        " Explique por qué los métodos implementados anteriormente (PALU y Jacobi) no funcionarían para resolver el sistema de ecuaciones asociado al modelo propuesto, y en cambio el método de *Newton* en $\\mathbb{R}^{n}$ sí lo haría, fundamente y discuta el por qué."
      ]
    },
    {
      "cell_type": "markdown",
      "metadata": {
        "id": "Hm-6rfoMtt0a"
      },
      "source": [
        "Ambos sistemas no funcionarian por que solo sirven para sistemas de ecuaciones LINEALES, sin embargo, el metodo de Newton sirve para sistemas NO LINEALES."
      ]
    },
    {
      "cell_type": "markdown",
      "metadata": {
        "id": "ibsOzBN4ycf5"
      },
      "source": [
        "3. **(25 puntos)**\n",
        "implemente la función $\\mathbf{F}(\\mathbf{p})$ tal que $\\mathbf{F}(\\mathbf{p})  = \\mathbf{0}$, correspondiente a la función $\\mathbf{F}(\\mathbf{x})$ del método de *Newton*, para el sistema de ecuaciones asociado al circuito entregado."
      ]
    },
    {
      "cell_type": "code",
      "execution_count": 115,
      "metadata": {
        "id": "0Ku-bG3gycf5"
      },
      "outputs": [
        {
          "name": "stdout",
          "output_type": "stream",
          "text": [
            "[1. 2. 3. 4.]\n",
            "[ 4.1 -1.4 -1.4 -5.9]\n",
            "[1. 1. 1. 1.]\n",
            "[ 5.  0.  0. -5.]\n",
            "[7. 8. 3. 6.]\n",
            "[ 4.91581633 -0.01518219  0.02013963 -4.97664835]\n"
          ]
        }
      ],
      "source": [
        "def F(p, R0, alpha):\n",
        "    \"\"\"\n",
        "    input:\n",
        "    p     : (ndarray) Pressure vector at each node of the system.\n",
        "    R0    : (float) Base resistance of the channels.\n",
        "    alpha : (float) coefficient in the resistance equation.\n",
        "\n",
        "    output:\n",
        "    f     : (ndarray) Vector of hydraulic imbalances evaluated at each node.\n",
        "    \"\"\"\n",
        "\n",
        "    ###### acá va su código ######\n",
        "\n",
        "    # Pasar cada elemento de p a pi\n",
        "    print(p)\n",
        "    p1 = p[0]\n",
        "    p2 = p[1]\n",
        "    p3 = p[2]\n",
        "    p4 = p[3]\n",
        "\n",
        "    # Los valores de R entregados\n",
        "    R = np.array([-5., 0., 0., 5.])\n",
        "\n",
        "    # Las restas de cada pi con pj\n",
        "    pi_m_pj = np.array([ [p1-p2, p1-p3, 0], [p1-p2, p2-p3, p2-p4], [p1-p3, p2-p3, p3-p4], [0, p2-p4, p3-p4] ])\n",
        "\n",
        "    # Las restas de cada pi con pj al cuadrado\n",
        "    pi_m_pj_squared = np.power(pi_m_pj, 2)\n",
        "\n",
        "    # Parte superior e inferior de las fracciones en cada termino\n",
        "    top = pi_m_pj\n",
        "    bottom = R0 * (1. + alpha * pi_m_pj_squared)\n",
        "    bottom = 1 / bottom\n",
        "\n",
        "    # Vector de puros unos\n",
        "    ones = np.array([1.,1.,1.])\n",
        "    \n",
        "    # La funcion que f(p) que nos asegura f(p) = 0\n",
        "    f = (top * bottom) @ ones - R\n",
        "\n",
        "    ###### acá va su código ######\n",
        "    return f\n",
        "\n",
        "print(F(np.array([1.,2.,3.,4.]), 1., 1.))\n",
        "print(F(np.array([1.,1.,1.,1.]), 1., 1.))\n",
        "print(F(np.array([7.,8.,3.,6.]), 2., 3.))"
      ]
    },
    {
      "cell_type": "markdown",
      "metadata": {
        "id": "kiO5O2MCycf5"
      },
      "source": [
        "4. **(25 puntos)**\n",
        "implemente la función ``is_diagonally_dominant(A)`` la cual dada una matríz $A$, verifica si es diagonal dominante.\n"
      ]
    },
    {
      "cell_type": "code",
      "execution_count": 116,
      "metadata": {
        "id": "tnzhn9Geycf5"
      },
      "outputs": [
        {
          "name": "stdout",
          "output_type": "stream",
          "text": [
            "False\n",
            "True\n"
          ]
        }
      ],
      "source": [
        "def is_diagonally_dominant(A):\n",
        "    \"\"\"\n",
        "    input:\n",
        "    A         : (float) Matrix to determinate diagonal dominance.\n",
        "\n",
        "    output:\n",
        "    is_diagonal:(bool) Returns True if the matrix A is diagonally dominant; otherwise, returns False.\n",
        "    \"\"\"\n",
        "    ###### acá va su código ######\n",
        "\n",
        "    # La parte diagonal de la matriz\n",
        "    A_diag = np.diag(np.full(A.shape[0], 1)) * np.diag(A)\n",
        "    \n",
        "    # La matriz sin su parte diagonal\n",
        "    A_non_diag = A - A_diag\n",
        "    \n",
        "    # Asumienod que la matriz es cuadrada, sacamos su largo\n",
        "    # y a partir de esto creamos un vector de unos\n",
        "    ones = np.ones(A.shape[0])\n",
        "    \n",
        "    # Crea un vector con las diagonales y otro con las no diagonales\n",
        "    # Resta ambos para evaluar posteriormente\n",
        "    res = abs(A_diag @ ones.T) - abs(A_non_diag @ ones.T)\n",
        "    \n",
        "    # Por defecto no es diagonal\n",
        "    is_diagonal = True\n",
        "\n",
        "    # Revisa si tiene elementos menores a cero\n",
        "    res_eval = res[res < 0]\n",
        "\n",
        "    if (len(res_eval) != 0):\n",
        "        is_diagonal = False\n",
        "\n",
        "    ###### acá va su código ######\n",
        "    return is_diagonal\n",
        "\n",
        "matrix = np.array([ [1.,2.,3.], [4.,5.,6.], [7.,8.,9.] ])\n",
        "print(is_diagonally_dominant(matrix))\n",
        "\n",
        "matrix = np.array([ [9.,2.,3.], [0.,-5.,1.], [0.,6.,7.] ])\n",
        "print(is_diagonally_dominant(matrix))"
      ]
    },
    {
      "cell_type": "markdown",
      "metadata": {
        "id": "ZIRGfkKdycf5"
      },
      "source": [
        "5. **(30 puntos)**\n",
        "Implemente la función ``adaptative_Newton(A,b,iter=50,tol=1e-6)`` que realiza el método iterativo de *Newton* para $\\mathbb{R}^n$, resolviendo el sistema de ecuaciones lineales en cada iteración utilizando el método de *Jacobi* clásico si es que se asegura la convergencia de este método, y PALU en otro caso. para ello considere que el Jacobiando de F corresponde a la siguiente implementación:\n"
      ]
    },
    {
      "cell_type": "code",
      "execution_count": 117,
      "metadata": {
        "id": "5lgoBIwPycf6"
      },
      "outputs": [],
      "source": [
        "def JacF(p, R0, alpha):\n",
        "    R = lambda pi, pj: R0 * (1 + alpha * (pi - pj)**2)\n",
        "    dq_dpi = lambda pi, pj: (R(pi, pj) - (pi - pj) * (2 * R0 * alpha * (pi - pj))) / (R(pi, pj)**2)\n",
        "    dq_dpj = lambda pi, pj: -dq_dpi(pj, pi)\n",
        "\n",
        "    J = np.zeros((4, 4))\n",
        "    J[0, 0] = dq_dpi(p[0], p[1]) + dq_dpi(p[0], p[2])\n",
        "    J[0, 1] = dq_dpj(p[0], p[1])\n",
        "    J[0, 2] = dq_dpj(p[0], p[2])\n",
        "    J[1, 0] = dq_dpi(p[0], p[1])\n",
        "    J[1, 1] = dq_dpj(p[0], p[1]) + dq_dpi(p[1], p[2]) + dq_dpi(p[1], p[3])\n",
        "    J[1, 2] = dq_dpj(p[1], p[2])\n",
        "    J[1, 3] = dq_dpj(p[1], p[3])\n",
        "    J[2, 0] = dq_dpi(p[0], p[2])\n",
        "    J[2, 1] = dq_dpi(p[1], p[2])\n",
        "    J[2, 2] = dq_dpj(p[0], p[2]) + dq_dpj(p[1], p[2]) + dq_dpi(p[2], p[3])\n",
        "    J[2, 3] = dq_dpj(p[2], p[3])\n",
        "    J[3, 1] = dq_dpi(p[1], p[3])\n",
        "    J[3, 2] = dq_dpi(p[2], p[3])\n",
        "    J[3, 3] = dq_dpj(p[1], p[3]) + dq_dpj(p[2], p[3])\n",
        "\n",
        "    return J"
      ]
    },
    {
      "cell_type": "code",
      "execution_count": 118,
      "metadata": {
        "id": "yq36rw2Lycf6"
      },
      "outputs": [],
      "source": [
        "def adaptative_Newton(x0, R0, alpha, n, iter=50, tol=1e-6):\n",
        "    \"\"\"\n",
        "    input:\n",
        "    x0    : (ndarray) Initial guess for the pressure vector.\n",
        "    R0    : (float) Base resistance used in the flow equation.\n",
        "    alpha : (float) coefficient of the resistance.\n",
        "    n     : (int) Number of nodes (length of the pressure vector).\n",
        "    iter  : (int) Maximum number of iterations for the Newton-Raphson method. Default is 50.\n",
        "    tol   : (float) Tolerance for convergence. Default is 1e-6.\n",
        "\n",
        "    output:\n",
        "    x     : (ndarray) Approximated solution vector after convergence of the Newton-Raphson method.\n",
        "    \"\"\"\n",
        "\n",
        "    ###### acá va su código ######\n",
        "\n",
        "    x = x0.copy\n",
        "\n",
        "    A = F(x, R0, alpha)\n",
        "    \n",
        "\n",
        "    # Si es diagonalmente dominante, usar Jacobi\n",
        "    if (is_diagonally_dominant(A)):\n",
        "        for i in range(iter):\n",
        "            x = JacF(x, R0, alpha)\n",
        "\n",
        "        # Retornar antes de salir del if\n",
        "        return x\n",
        "    \n",
        "    # Si NO es diagonalmente dominante, usar PALU\n",
        "    else:\n",
        "        # No termine de implementar esto\n",
        "        # TODO: crear la matriz que represente el sistema\n",
        "        x = solve_palu(x)\n",
        "\n",
        "    ###### acá va su código ######\n",
        "    return x"
      ]
    },
    {
      "cell_type": "markdown",
      "metadata": {},
      "source": [
        "*Ejecute siguiente Celda para comprobar sus resultados*"
      ]
    },
    {
      "cell_type": "code",
      "execution_count": 120,
      "metadata": {
        "colab": {
          "base_uri": "https://localhost:8080/"
        },
        "id": "3qp8hB1E498U",
        "outputId": "6637757a-a860-407c-81a6-28970a233522"
      },
      "outputs": [
        {
          "name": "stdout",
          "output_type": "stream",
          "text": [
            "<built-in method copy of list object at 0x0000017F65A7C7C0>\n"
          ]
        },
        {
          "ename": "TypeError",
          "evalue": "'builtin_function_or_method' object is not subscriptable",
          "output_type": "error",
          "traceback": [
            "\u001b[31m---------------------------------------------------------------------------\u001b[39m",
            "\u001b[31mTypeError\u001b[39m                                 Traceback (most recent call last)",
            "\u001b[36mCell\u001b[39m\u001b[36m \u001b[39m\u001b[32mIn[120]\u001b[39m\u001b[32m, line 1\u001b[39m\n\u001b[32m----> \u001b[39m\u001b[32m1\u001b[39m \u001b[43madaptative_Newton\u001b[49m\u001b[43m(\u001b[49m\u001b[43m[\u001b[49m\u001b[32;43m1\u001b[39;49m\u001b[43m,\u001b[49m\u001b[32;43m10\u001b[39;49m\u001b[43m,\u001b[49m\u001b[32;43m30\u001b[39;49m\u001b[43m,\u001b[49m\u001b[32;43m40\u001b[39;49m\u001b[43m]\u001b[49m\u001b[43m,\u001b[49m\u001b[32;43m1\u001b[39;49m\u001b[43m,\u001b[49m\u001b[32;43m1\u001b[39;49m\u001b[43m,\u001b[49m\u001b[32;43m4\u001b[39;49m\u001b[43m)\u001b[49m\n",
            "\u001b[36mCell\u001b[39m\u001b[36m \u001b[39m\u001b[32mIn[118]\u001b[39m\u001b[32m, line 19\u001b[39m, in \u001b[36madaptative_Newton\u001b[39m\u001b[34m(x0, R0, alpha, n, iter, tol)\u001b[39m\n\u001b[32m     15\u001b[39m \u001b[38;5;66;03m###### acá va su código ######\u001b[39;00m\n\u001b[32m     17\u001b[39m x = x0.copy\n\u001b[32m---> \u001b[39m\u001b[32m19\u001b[39m A = \u001b[43mF\u001b[49m\u001b[43m(\u001b[49m\u001b[43mx\u001b[49m\u001b[43m,\u001b[49m\u001b[43m \u001b[49m\u001b[43mR0\u001b[49m\u001b[43m,\u001b[49m\u001b[43m \u001b[49m\u001b[43malpha\u001b[49m\u001b[43m)\u001b[49m\n\u001b[32m     22\u001b[39m \u001b[38;5;66;03m# Si es diagonalmente dominante, usar Jacobi\u001b[39;00m\n\u001b[32m     23\u001b[39m \u001b[38;5;28;01mif\u001b[39;00m (is_diagonally_dominant(A)):\n",
            "\u001b[36mCell\u001b[39m\u001b[36m \u001b[39m\u001b[32mIn[115]\u001b[39m\u001b[32m, line 16\u001b[39m, in \u001b[36mF\u001b[39m\u001b[34m(p, R0, alpha)\u001b[39m\n\u001b[32m     12\u001b[39m \u001b[38;5;66;03m###### acá va su código ######\u001b[39;00m\n\u001b[32m     13\u001b[39m \n\u001b[32m     14\u001b[39m \u001b[38;5;66;03m# Pasar cada elemento de p a pi\u001b[39;00m\n\u001b[32m     15\u001b[39m \u001b[38;5;28mprint\u001b[39m(p)\n\u001b[32m---> \u001b[39m\u001b[32m16\u001b[39m p1 = \u001b[43mp\u001b[49m\u001b[43m[\u001b[49m\u001b[32;43m0\u001b[39;49m\u001b[43m]\u001b[49m\n\u001b[32m     17\u001b[39m p2 = p[\u001b[32m1\u001b[39m]\n\u001b[32m     18\u001b[39m p3 = p[\u001b[32m2\u001b[39m]\n",
            "\u001b[31mTypeError\u001b[39m: 'builtin_function_or_method' object is not subscriptable"
          ]
        }
      ],
      "source": [
        "adaptative_Newton([1,10,30,40],1,1,4)"
      ]
    }
  ],
  "metadata": {
    "colab": {
      "collapsed_sections": [
        "_VMaO1TAhhrD"
      ],
      "provenance": []
    },
    "kernelspec": {
      "display_name": "Python 3",
      "language": "python",
      "name": "python3"
    },
    "language_info": {
      "codemirror_mode": {
        "name": "ipython",
        "version": 3
      },
      "file_extension": ".py",
      "mimetype": "text/x-python",
      "name": "python",
      "nbconvert_exporter": "python",
      "pygments_lexer": "ipython3",
      "version": "3.12.10"
    }
  },
  "nbformat": 4,
  "nbformat_minor": 0
}
